{
 "cells": [
  {
   "cell_type": "code",
   "execution_count": 10,
   "id": "823c20d7",
   "metadata": {},
   "outputs": [
    {
     "name": "stdout",
     "output_type": "stream",
     "text": [
      "Requirement already satisfied: opencv-python in c:\\users\\diogo\\anaconda3\\lib\\site-packages (4.6.0.66)\n",
      "Requirement already satisfied: numpy>=1.17.3 in c:\\users\\diogo\\anaconda3\\lib\\site-packages (from opencv-python) (1.23.4)\n"
     ]
    },
    {
     "name": "stderr",
     "output_type": "stream",
     "text": [
      "ERROR: Could not find a version that satisfies the requirement glob (from versions: none)\n",
      "ERROR: No matching distribution found for glob\n"
     ]
    }
   ],
   "source": [
    "\n",
    "!pip install opencv-python\n",
    "!pip install glob"
   ]
  },
  {
   "cell_type": "code",
   "execution_count": 65,
   "id": "d310f7ef",
   "metadata": {},
   "outputs": [],
   "source": [
    "\n",
    "import numpy as np\n",
    "import pandas as pd\n",
    "import matplotlib.pyplot as plt\n",
    "import matplotlib.image as mpimg\n",
    "\n",
    "import cv2\n",
    "from scipy.io import loadmat\n",
    "import glob\n",
    "\n"
   ]
  },
  {
   "cell_type": "code",
   "execution_count": null,
   "id": "920544c1",
   "metadata": {},
   "outputs": [],
   "source": [
    "folders = glob.glob(r'C:\\Users\\diogo\\OneDrive\\Ambiente de Trabalho\\PokemonData\\\\*') \n",
    "imagenames_list_per_folder = []  # each value contains a list of images of a certain pokemon\n",
    "imagenames_list_total = []  # each value contains \n",
    "c = 0  # count\n",
    "for folder in folders:\n",
    "    for f in glob.glob(folder+'/*.jpg'):\n",
    "        imagenames_list_per_folder.append(f)\n",
    "    imagenames_list_total.append(imagenames_list_per_folder)\n",
    "    c = c + 1\n",
    "\n",
    "\"\"\"\"\"\"\n",
    "read_images = []        \n",
    "for x in imagenames_list_total:\n",
    "    for image in x:\n",
    "        read_images.append(cv2.imread(image, cv2.IMREAD_GRAYSCALE))\n",
    "    \n"
   ]
  },
  {
   "cell_type": "code",
   "execution_count": null,
   "id": "f419f382",
   "metadata": {},
   "outputs": [],
   "source": [
    "# print(read_images[1])\n",
    "print(len(read_images))\n",
    "print(imagenames_list_total[0])\n",
    "print(c)"
   ]
  },
  {
   "cell_type": "code",
   "execution_count": 3,
   "id": "09f39ed2",
   "metadata": {},
   "outputs": [
    {
     "ename": "SyntaxError",
     "evalue": "invalid syntax (1824371717.py, line 3)",
     "output_type": "error",
     "traceback": [
      "\u001b[1;36m  Input \u001b[1;32mIn [3]\u001b[1;36m\u001b[0m\n\u001b[1;33m    X = ?\u001b[0m\n\u001b[1;37m        ^\u001b[0m\n\u001b[1;31mSyntaxError\u001b[0m\u001b[1;31m:\u001b[0m invalid syntax\n"
     ]
    }
   ],
   "source": [
    "#  Import DataSet\n",
    "\n",
    "\n",
    "X = ?\n",
    "y = ?\n",
    "\n",
    "Xval = ?\n",
    "yval = ?\n",
    "\n",
    "Xtest = ?\n",
    "ytest = ?\n",
    "\n",
    "m , n = X.shape[0], X.shape[1]\n",
    "m_val = Xval.shape[0]\n",
    "m_val = Xtest.shape[0]"
   ]
  },
  {
   "cell_type": "code",
   "execution_count": null,
   "id": "9fe2ca66",
   "metadata": {},
   "outputs": [],
   "source": [
    "# Complete sigmoid function. The same function as in Part 1\n",
    "def sigmoid(z):\n",
    "    \"\"\"\n",
    "    return the sigmoid of z\n",
    "    \"\"\"\n",
    "    \n",
    "    gz = 1/(1+np.exp(-z))\n",
    "    \n",
    "    return gz"
   ]
  },
  {
   "cell_type": "code",
   "execution_count": 4,
   "id": "5ad78372",
   "metadata": {},
   "outputs": [],
   "source": [
    "\n",
    "def costFunctionReg(theta, X, y, Lambda):\n",
    "    \"\"\"\n",
    "    Take in numpy array of  data X, labels y and theta, to return the regularized cost function and gradients\n",
    "    of the logistic regression classifier\n",
    "    \"\"\"\n",
    "    \n",
    "    #number of training examples \n",
    "    m = len(y)\n",
    "        \n",
    "    #vector of the model predictions for all training examples      \n",
    "    h = sigmoid(np.dot(X,theta))\n",
    "    \n",
    "    error = (-y * np.log(h)) - ((1-y)*np.log(1-h))\n",
    "    \n",
    "    #cost function without regularization term\n",
    "    cost = sum(error)/m\n",
    "    \n",
    "    #add regularization term to the cost function L2 norm\n",
    "    regCost= cost + Lambda/(2*m) * sum(theta[1:]**2)\n",
    "    \n",
    "    #gradient of theta_0\n",
    "    grad_0= (1/m) * np.dot(X.transpose(),(h - y))[0]\n",
    "    \n",
    "    #vector of gradients of theta_j from j=1:n (adding the regularization term of the gradient)\n",
    "    grad = (1/m) * np.dot(X.transpose(),(h - y))[1:] + (Lambda/m)* theta[1:]\n",
    "       \n",
    "    # all gradients in a column vector shape\n",
    "    grad_all=np.append(grad_0,grad)\n",
    "    grad_all = grad_all.reshape((len(grad_all), 1))\n",
    "    \n",
    "    return regCost[0], grad_all"
   ]
  },
  {
   "cell_type": "code",
   "execution_count": 6,
   "id": "1015a0a8",
   "metadata": {},
   "outputs": [
    {
     "ename": "NameError",
     "evalue": "name 'costFunctionReg' is not defined",
     "output_type": "error",
     "traceback": [
      "\u001b[1;31m---------------------------------------------------------------------------\u001b[0m",
      "\u001b[1;31mNameError\u001b[0m                                 Traceback (most recent call last)",
      "Input \u001b[1;32mIn [6]\u001b[0m, in \u001b[0;36m<cell line: 13>\u001b[1;34m()\u001b[0m\n\u001b[0;32m     10\u001b[0m Lambda \u001b[38;5;241m=\u001b[39m \u001b[38;5;241m3\u001b[39m\n\u001b[0;32m     12\u001b[0m \u001b[38;5;66;03m#test costFunctionReg with generated data\u001b[39;00m\n\u001b[1;32m---> 13\u001b[0m cost, grad \u001b[38;5;241m=\u001b[39m \u001b[43mcostFunctionReg\u001b[49m(theta_t, X_t, y_t, Lambda)\n\u001b[0;32m     15\u001b[0m \u001b[38;5;66;03m#print(\"Cost:\",round(cost,3))\u001b[39;00m\n\u001b[0;32m     16\u001b[0m \u001b[38;5;28mprint\u001b[39m(\u001b[38;5;124m\"\u001b[39m\u001b[38;5;130;01m\\n\u001b[39;00m\u001b[38;5;124m Gradients:\u001b[39m\u001b[38;5;130;01m\\n\u001b[39;00m\u001b[38;5;124m\"\u001b[39m,grad,\u001b[38;5;124m\"\u001b[39m\u001b[38;5;130;01m\\n\u001b[39;00m\u001b[38;5;124m \u001b[39m\u001b[38;5;130;01m\\n\u001b[39;00m\u001b[38;5;124m Expected gradients:\u001b[39m\u001b[38;5;130;01m\\n\u001b[39;00m\u001b[38;5;124m 0.146561\u001b[39m\u001b[38;5;130;01m\\n\u001b[39;00m\u001b[38;5;124m -0.548558\u001b[39m\u001b[38;5;130;01m\\n\u001b[39;00m\u001b[38;5;124m 0.724722\u001b[39m\u001b[38;5;130;01m\\n\u001b[39;00m\u001b[38;5;124m 1.398003\u001b[39m\u001b[38;5;124m\"\u001b[39m)\n",
      "\u001b[1;31mNameError\u001b[0m: name 'costFunctionReg' is not defined"
     ]
    }
   ],
   "source": [
    "#test with generated data\n",
    "\n",
    "theta_t = np.array([-2,-1,1,2]).reshape(4,1)\n",
    "\n",
    "X_t = np.array([np.linspace(0.1,1.5,15)]).reshape(3,5).T\n",
    "X_t = np.append(np.ones((5,1)),X_t,axis=1)\n",
    "\n",
    "y_t = np.array([1,0,1,0,1]).reshape(5,1)\n",
    "\n",
    "Lambda = 3\n",
    "\n",
    "#test costFunctionReg with generated data\n",
    "cost, grad = costFunctionReg(theta_t, X_t, y_t, Lambda)\n",
    "\n",
    "#print(\"Cost:\",round(cost,3))\n",
    "print(\"\\n Gradients:\\n\",grad,\"\\n \\n Expected gradients:\\n 0.146561\\n -0.548558\\n 0.724722\\n 1.398003\")"
   ]
  },
  {
   "cell_type": "code",
   "execution_count": 7,
   "id": "0a95b437",
   "metadata": {},
   "outputs": [],
   "source": [
    "\n",
    "def gradientDescent(X,y,theta,alpha,num_iters,Lambda):\n",
    "    \"\"\"\n",
    "    Take in numpy array X, y and theta and update theta by taking num_iters gradient steps\n",
    "    with learning rate of alpha\n",
    "    \n",
    "    return theta and the list of the cost of theta during each iteration\n",
    "    \"\"\"\n",
    "    \n",
    "    J_history =[]\n",
    "    \n",
    "    for i in range(num_iters):\n",
    "        \n",
    "        #call CostFunctionReg \n",
    "        cost, grad = costFunctionReg(theta, X, y, Lambda)\n",
    "        #update theta\n",
    "        theta = theta - np.dot(alpha,grad)\n",
    "        J_history.append(cost)\n",
    "    \n",
    "    return theta , J_history\n"
   ]
  },
  {
   "cell_type": "code",
   "execution_count": null,
   "id": "22d3f3ae",
   "metadata": {},
   "outputs": [],
   "source": [
    "def oneVsAll(X, y, initial_theta, alpha, num_iters, Lambda, K):\n",
    "    \"\"\"\n",
    "    Inputs:\n",
    "    numpy array of data X and labels y\n",
    "    initial_theta - inicialized vector of model parameters theta \n",
    "    alpha - learning rate\n",
    "    num_iters - number of iterations\n",
    "    Lambda - regularization parameter \n",
    "    K -number of classes\n",
    "    \n",
    "    ONEVSALL trains K Logistic Regression classifiers using gradient descent. \n",
    "    \n",
    "    Returns:   \n",
    "    all_theta - Kxn matrix where i-th row corresponds to the i-th classifier, n parameters\n",
    "    all_J - the evolution of cost function during each iteration (J_history) for all K classifiers\n",
    "    \n",
    "    \"\"\"\n",
    "    all_theta = []\n",
    "    all_J = []\n",
    "    \n",
    "    #number of training examples\n",
    "    m = X.shape[0]\n",
    "    \n",
    "    #number of features\n",
    "    n = X.shape[1]\n",
    "    \n",
    "    # add an extra column of 1´s corresponding to xo=1 (aka intercept term)\n",
    "    X = np.append(np.ones((m,1)),X,axis=1)\n",
    "    \n",
    "    for i in range(1,K+1):\n",
    "        theta , J_history = gradientDescent(X,np.where(y == i,1,0),initial_theta,alpha,num_iters,Lambda)\n",
    "        \n",
    "        # sdd the vector of optimized parameters theta of classifier i\n",
    "        all_theta.extend(theta)\n",
    "                \n",
    "        # add the cost function history of classifier i\n",
    "        all_J.extend(J_history)\n",
    "        \n",
    "    return np.array(all_theta).reshape(K,n+1), all_J"
   ]
  }
 ],
 "metadata": {
  "kernelspec": {
   "display_name": "Python 3 (ipykernel)",
   "language": "python",
   "name": "python3"
  },
  "language_info": {
   "codemirror_mode": {
    "name": "ipython",
    "version": 3
   },
   "file_extension": ".py",
   "mimetype": "text/x-python",
   "name": "python",
   "nbconvert_exporter": "python",
   "pygments_lexer": "ipython3",
   "version": "3.9.12"
  }
 },
 "nbformat": 4,
 "nbformat_minor": 5
}
